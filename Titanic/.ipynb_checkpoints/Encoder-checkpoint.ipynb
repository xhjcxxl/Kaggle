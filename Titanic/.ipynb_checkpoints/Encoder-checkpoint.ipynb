{
 "cells": [
  {
   "cell_type": "code",
   "execution_count": 1,
   "metadata": {},
   "outputs": [],
   "source": [
    "import numpy as np\n",
    "import pandas as pd\n",
    "from sklearn.preprocessing import LabelEncoder\n",
    "from sklearn.preprocessing import OneHotEncoder"
   ]
  },
  {
   "cell_type": "code",
   "execution_count": 36,
   "metadata": {},
   "outputs": [
    {
     "name": "stdout",
     "output_type": "stream",
     "text": [
      "[[ 0.  1.]\n",
      " [ 1.  0.]\n",
      " [ 1.  0.]\n",
      " ..., \n",
      " [ 1.  0.]\n",
      " [ 0.  1.]\n",
      " [ 0.  1.]]\n"
     ]
    }
   ],
   "source": [
    "data = pd.read_csv(\"data/train.csv\") \n",
    "#剔除变量  \n",
    "# print(data['Sex'])\n",
    "le_sex=LabelEncoder().fit(data['Sex'])\n",
    "# print(\"le_sex:\", le_sex)\n",
    "Sex_label=le_sex.transform(data['Sex'])\n",
    "# print(Sex_label)\n",
    "ohe_sex=OneHotEncoder(sparse=False).fit(Sex_label.reshape(-1,1))\n",
    "# print(ohe_sex)\n",
    "Sex_ohe=ohe_sex.transform(Sex_label.reshape(-1,1))\n",
    "print(Sex_ohe)"
   ]
  },
  {
   "cell_type": "code",
   "execution_count": 11,
   "metadata": {},
   "outputs": [
    {
     "name": "stdout",
     "output_type": "stream",
     "text": [
      "LabelEncoder()\n"
     ]
    }
   ],
   "source": [
    "le = LabelEncoder()\n",
    "print(le)"
   ]
  },
  {
   "cell_type": "code",
   "execution_count": 52,
   "metadata": {},
   "outputs": [
    {
     "data": {
      "text/plain": [
       "array([  1,   5, 200])"
      ]
     },
     "execution_count": 52,
     "metadata": {},
     "output_type": "execute_result"
    }
   ],
   "source": [
    "ll = le.fit([1, 5, 5, 200, 5, 1])\n",
    "le.classes_ \n",
    "ll.classes_"
   ]
  },
  {
   "cell_type": "code",
   "execution_count": 51,
   "metadata": {},
   "outputs": [
    {
     "name": "stdout",
     "output_type": "stream",
     "text": [
      "[0 1 1 2 1 0]\n"
     ]
    },
    {
     "data": {
      "text/plain": [
       "array([0, 1, 1, 2, 1, 0])"
      ]
     },
     "execution_count": 51,
     "metadata": {},
     "output_type": "execute_result"
    }
   ],
   "source": [
    "label = le.transform([1, 5, 5, 200, 5, 1])\n",
    "print(label)\n",
    "label"
   ]
  },
  {
   "cell_type": "code",
   "execution_count": 24,
   "metadata": {},
   "outputs": [],
   "source": [
    "one = OneHotEncoder()"
   ]
  },
  {
   "cell_type": "code",
   "execution_count": 30,
   "metadata": {},
   "outputs": [
    {
     "data": {
      "text/plain": [
       "OneHotEncoder(categorical_features='all', dtype=<class 'numpy.float64'>,\n",
       "       handle_unknown='error', n_values='auto', sparse=True)"
      ]
     },
     "execution_count": 30,
     "metadata": {},
     "output_type": "execute_result"
    }
   ],
   "source": [
    "one.fit([[1],[2],[3],[4]])"
   ]
  },
  {
   "cell_type": "code",
   "execution_count": 33,
   "metadata": {},
   "outputs": [
    {
     "data": {
      "text/plain": [
       "array([[ 0.,  1.,  0.,  0.],\n",
       "       [ 0.,  1.,  0.,  0.],\n",
       "       [ 0.,  0.,  1.,  0.],\n",
       "       [ 0.,  0.,  0.,  1.]])"
      ]
     },
     "execution_count": 33,
     "metadata": {},
     "output_type": "execute_result"
    }
   ],
   "source": [
    "one.transform([[2],[2],[3],[4]]).toarray()"
   ]
  },
  {
   "cell_type": "code",
   "execution_count": 57,
   "metadata": {},
   "outputs": [
    {
     "name": "stdout",
     "output_type": "stream",
     "text": [
      "enc.n_values_ is: [2 3 4]\n",
      "enc.feature_indices_ is: [0 2 5 9]\n",
      "[[ 1.  0.  0.  0.  1.  0.  0.  1.  0.]]\n"
     ]
    }
   ],
   "source": [
    "enc = OneHotEncoder()\n",
    "enc.fit([[0, 0, 3], [1, 1, 0], [0, 2, 1],[1, 0, 2]])\n",
    "print(\"enc.n_values_ is:\",enc.n_values_)\n",
    "print(\"enc.feature_indices_ is:\",enc.feature_indices_)\n",
    "print(enc.transform([[0, 2, 2]]).toarray())"
   ]
  },
  {
   "cell_type": "markdown",
   "metadata": {},
   "source": [
    "每一列代表一个属性，fit 操作之后：\n",
    "对象enc的n_values_成员变量，记录着每一个属性的最大取值数目，如本例第一个属性：0, 1, 0, 1 ⇒ 2，0, 1, 2, 0 ⇒ 3，3, 0, 1, 2 ⇒ 4\n",
    "\n",
    "即各个属性（feature）在 one hot 编码下占据的位数\n",
    "\n",
    "对象 enc 的 feature_indices_，则记录着属性在新 One hot 编码下的索引位置，\n",
    "\n",
    "feature_indices_ 是对 n_values_ 的累积值，不过 feature_indices 的首位是 0；\n",
    "\n",
    "进一步通过 fit 好的 one hot encoder 对新来的特征向量进行编码：\n",
    "\n",
    "enc.transform([[0, 1, 1]]).toarray()\n",
    "\n",
    "array([[ 1.,  0.,  0.,  1.,  0.,  0.,  1.,  0.,  0.]])\n",
    "\n",
    "前 2 位 1, 0，对 0 进行编码\n",
    "\n",
    "中间 3 位 0, 1, 0 对 1 进行编码\n",
    "\n",
    "末尾 4 位 0, 1, 0, 0 对 1 进行编码"
   ]
  },
  {
   "cell_type": "code",
   "execution_count": null,
   "metadata": {},
   "outputs": [],
   "source": []
  }
 ],
 "metadata": {
  "kernelspec": {
   "display_name": "Python 3",
   "language": "python",
   "name": "python3"
  },
  "language_info": {
   "codemirror_mode": {
    "name": "ipython",
    "version": 3
   },
   "file_extension": ".py",
   "mimetype": "text/x-python",
   "name": "python",
   "nbconvert_exporter": "python",
   "pygments_lexer": "ipython3",
   "version": "3.6.3"
  }
 },
 "nbformat": 4,
 "nbformat_minor": 2
}
