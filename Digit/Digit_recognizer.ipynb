{
 "cells": [
  {
   "cell_type": "code",
   "execution_count": null,
   "metadata": {},
   "outputs": [],
   "source": [
    "import pandas as pd\n",
    "from sklearn.model_selection import train_test_split"
   ]
  },
  {
   "cell_type": "code",
   "execution_count": null,
   "metadata": {},
   "outputs": [],
   "source": [
    "train_data = pd.read_csv('data/train.csv')\n",
    "test_data = pd.read_csv('data/test.csv')"
   ]
  },
  {
   "cell_type": "code",
   "execution_count": null,
   "metadata": {},
   "outputs": [],
   "source": [
    "train_data.info()\n",
    "test_data.info()"
   ]
  },
  {
   "cell_type": "code",
   "execution_count": null,
   "metadata": {},
   "outputs": [],
   "source": [
    "# train_X = train_data.drop('label')            drop 默认删除 行\n",
    "train_X = train_data.drop('label', axis = 1)  # 添加 axis 将删除列\n",
    "\n",
    "# train_Y = train_data['label']  使用这种方式 得到的是 一维数组，为（42000，）\n",
    "train_Y = train_data[['label']] #使用这种方式 得到的是 二维数组 为（42000,1）"
   ]
  },
  {
   "cell_type": "code",
   "execution_count": null,
   "metadata": {},
   "outputs": [],
   "source": [
    "print(\"train_X: \", train_X.shape, \"\\ntrain_Y: \", train_Y.shape)"
   ]
  },
  {
   "cell_type": "code",
   "execution_count": null,
   "metadata": {},
   "outputs": [],
   "source": [
    "X_train, X_test, Y_train, Y_test = train_test_split(train_X, train_Y, test_size=0.2)"
   ]
  },
  {
   "cell_type": "code",
   "execution_count": null,
   "metadata": {},
   "outputs": [],
   "source": [
    "print(\"X_train: \", X_train.shape, \"     Y_train: \", Y_train.shape)\n",
    "print(\"X_test: \", X_test.shape, \"       Y_test: \", Y_test.shape)"
   ]
  },
  {
   "cell_type": "markdown",
   "metadata": {},
   "source": [
    "# ResNet"
   ]
  },
  {
   "cell_type": "code",
   "execution_count": null,
   "metadata": {},
   "outputs": [],
   "source": [
    "# X_train = X_train.values\n",
    "X_train_R = X_train.values.reshape([-1, 28, 28, 1])\n",
    "\n",
    "# X_test = X_test.values\n",
    "X_test_R = X_test.values.reshape([-1, 28, 28, 1])"
   ]
  },
  {
   "cell_type": "code",
   "execution_count": null,
   "metadata": {},
   "outputs": [],
   "source": [
    "X_train_R.shape"
   ]
  },
  {
   "cell_type": "code",
   "execution_count": null,
   "metadata": {},
   "outputs": [],
   "source": [
    "from __future__ import division, print_function, absolute_import\n",
    "import tflearn\n",
    "import tflearn.data_utils as du"
   ]
  },
  {
   "cell_type": "code",
   "execution_count": null,
   "metadata": {},
   "outputs": [],
   "source": [
    "X_train_R, mean = du.featurewise_zero_center(X_train_R)"
   ]
  },
  {
   "cell_type": "code",
   "execution_count": null,
   "metadata": {},
   "outputs": [],
   "source": [
    "X_test_R = du.featurewise_zero_center(X_test_R, mean)"
   ]
  },
  {
   "cell_type": "code",
   "execution_count": null,
   "metadata": {},
   "outputs": [],
   "source": [
    "net = tflearn.input_data(shape=[None, 28, 28, 1])\n",
    "net = tflearn.conv_2d(net, 64, 3, activation='relu', bias=False)"
   ]
  },
  {
   "cell_type": "code",
   "execution_count": null,
   "metadata": {},
   "outputs": [],
   "source": [
    "net = tflearn.residual_bottleneck(net, 3, 16, 64)\n",
    "net = tflearn.residual_bottleneck(net, 1, 32, 128, downsample=True)\n",
    "net = tflearn.residual_bottleneck(net, 2, 32, 128)\n",
    "net = tflearn.residual_bottleneck(net, 1, 64, 256, downsample=True)\n",
    "net = tflearn.residual_bottleneck(net, 2, 64, 256)\n",
    "net = tflearn.batch_normalization(net)\n",
    "net = tflearn.activation(net, 'relu')\n",
    "net = tflearn.global_avg_pool(net)\n",
    "net = tflearn.fully_connected(net, 10, activation='softmax')"
   ]
  },
  {
   "cell_type": "code",
   "execution_count": null,
   "metadata": {},
   "outputs": [],
   "source": [
    "net = tflearn.regression(net, optimizer='momentum', loss='categorical_crossentropy', learning_rate=0.1)\n",
    "model = tflearn.DNN(net, checkpoint_path='model_Digit', max_checkpoints=2, tensorboard_verbose=0,tensorboard_dir='logs')\n",
    "model.fit(X_train_R, Y_train, n_epoch=1, validation_set=(X_test_R, Y_test), show_metric=True, batch_size=256,run_id='Digit')"
   ]
  },
  {
   "cell_type": "code",
   "execution_count": null,
   "metadata": {},
   "outputs": [],
   "source": []
  }
 ],
 "metadata": {
  "kernelspec": {
   "display_name": "Python 3",
   "language": "python",
   "name": "python3"
  },
  "language_info": {
   "codemirror_mode": {
    "name": "ipython",
    "version": 3
   },
   "file_extension": ".py",
   "mimetype": "text/x-python",
   "name": "python",
   "nbconvert_exporter": "python",
   "pygments_lexer": "ipython3",
   "version": "3.6.3"
  }
 },
 "nbformat": 4,
 "nbformat_minor": 2
}
